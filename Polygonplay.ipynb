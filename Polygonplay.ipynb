{
 "cells": [
  {
   "cell_type": "code",
   "execution_count": 1,
   "metadata": {
    "collapsed": false
   },
   "outputs": [],
   "source": [
    "%matplotlib notebook\n",
    "import pandas, math, itertools\n",
    "from mpl_toolkits.mplot3d import Axes3D\n",
    "import matplotlib.pyplot as plt\n",
    "import numpy as np\n",
    "from shapely.geometry import Polygon,Point\n",
    "import cPickle as pickle"
   ]
  },
  {
   "cell_type": "code",
   "execution_count": 2,
   "metadata": {
    "collapsed": false
   },
   "outputs": [],
   "source": [
    "data = pickle.load(open('data.pkl','rb'))"
   ]
  },
  {
   "cell_type": "markdown",
   "metadata": {},
   "source": [
    "Now load polygons from files"
   ]
  },
  {
   "cell_type": "code",
   "execution_count": 3,
   "metadata": {
    "collapsed": false
   },
   "outputs": [],
   "source": [
    "polygons = {}\n",
    "for o in data.keys():\n",
    "    polygons[o] = {}\n",
    "    for p in data[o].keys():\n",
    "        polygons[o][p] = []\n",
    "        for t in data[o][p]:\n",
    "            points = []\n",
    "            for pt in t:\n",
    "                points.append(pt[:3])\n",
    "            polygons[o][p].append(Polygon(points))\n"
   ]
  },
  {
   "cell_type": "code",
   "execution_count": 4,
   "metadata": {
    "collapsed": false
   },
   "outputs": [
    {
     "name": "stdout",
     "output_type": "stream",
     "text": [
      "12750\n",
      "0 sp8 1\n",
      "10000 sp8 201\n",
      "0 shaft 1\n",
      "10000 shaft 201\n",
      "0 sp11 1\n",
      "10000 sp11 201\n",
      "0 sp9 1\n",
      "10000 sp9 201\n",
      "0 sp12 1\n",
      "10000 sp12 201\n",
      "0 sp1 1\n",
      "10000 sp1 201\n",
      "0 sp10 1\n",
      "10000 sp10 201\n",
      "0 sp3 1\n",
      "10000 sp3 201\n",
      "0 sp4 1\n",
      "10000 sp4 201\n",
      "0 sp5 1\n",
      "10000 sp5 201\n",
      "0 sp6 1\n",
      "10000 sp6 201\n",
      "0 sp7 1\n",
      "10000 sp7 201\n",
      "0 b1 1\n",
      "10000 b1 201\n",
      "0 b2 1\n",
      "10000 b2 201\n",
      "0 sp13 1\n",
      "10000 sp13 201\n",
      "0 sp2 1\n",
      "10000 sp2 201\n"
     ]
    }
   ],
   "source": [
    "# build grid\n",
    "delta = 20\n",
    "a = np.arange(.5,491,delta)\n",
    "b = np.arange(.5,680,delta)\n",
    "c = np.arange(.5,281,delta)\n",
    "\n",
    "# initialize flag dictionary, object -> list\n",
    "flags = {}\n",
    "for o in data.keys():\n",
    "    flags[o] = np.zeros((len(a)*len(b)*len(c),1))\n",
    "print len(a)*len(b)*len(c)\n",
    "plot_points = []\n",
    "\n",
    "# iterate over objects\n",
    "for o in data.keys():\n",
    "    i = 0\n",
    "    # iterator over grid\n",
    "    grid = itertools.product(a,b,c)\n",
    "    for pt in grid:\n",
    "        z = int(round(pt[2])) \n",
    "        if str(z) in polygons[o].keys():\n",
    "            for t in polygons[o][str(z)]:\n",
    "                if t.contains(Point(pt[0], pt[1], pt[2])):\n",
    "                    flags[o][i] = 1\n",
    "                    #plot_points.append([pt[0], pt[1], pt[2], 1, 0, 0])\n",
    "        if i%10000 == 0:\n",
    "            print i, o, z\n",
    "        i+=1\n"
   ]
  },
  {
   "cell_type": "code",
   "execution_count": 19,
   "metadata": {
    "collapsed": false
   },
   "outputs": [
    {
     "name": "stdout",
     "output_type": "stream",
     "text": [
      "['sp8', 'shaft', 'sp3', 'sp9', 'sp12', 'sp1', 'sp10', 'sp11', 'sp4', 'sp5', 'sp6', 'sp7', 'b1', 'b2', 'sp13', 'sp2']\n",
      "[array([ 46.]), array([ 574.]), array([ 32.]), array([ 13.]), array([ 8.]), array([ 29.]), array([ 13.]), array([ 2.]), array([ 50.]), array([ 15.]), array([ 10.]), array([ 9.]), array([ 13.]), array([ 20.]), array([ 4.]), array([ 66.])]\n",
      "flags directory exists\n"
     ]
    }
   ],
   "source": [
    "print flags.keys()\n",
    "print [sum(flags[o]) for o in flags.keys()]\n",
    "\n",
    "import os\n",
    "try:\n",
    "    os.makedirs('flags')\n",
    "except:\n",
    "    print 'flags directory exists'\n",
    "\n",
    "for o in flags.keys():\n",
    "    with open(os.path.join('flags', '{}.dat'.format(o)),'w') as f:\n",
    "        for b in flags[o].flatten().tolist():\n",
    "            f.write('{}\\n'.format(b))\n"
   ]
  },
  {
   "cell_type": "code",
   "execution_count": 18,
   "metadata": {
    "collapsed": false
   },
   "outputs": [
    {
     "data": {
      "text/plain": [
       "574.0"
      ]
     },
     "execution_count": 18,
     "metadata": {},
     "output_type": "execute_result"
    }
   ],
   "source": [
    "sum(flags['shaft'].flatten().tolist())"
   ]
  },
  {
   "cell_type": "code",
   "execution_count": 6,
   "metadata": {
    "collapsed": false
   },
   "outputs": [],
   "source": [
    "#with open('b1_output.dat', 'w') as f:\n",
    "#    for flag in flags:\n",
    "#        f.write('{}\\n'.format(flag))"
   ]
  },
  {
   "cell_type": "code",
   "execution_count": 7,
   "metadata": {
    "collapsed": false
   },
   "outputs": [],
   "source": [
    "#print sum(flags)"
   ]
  },
  {
   "cell_type": "code",
   "execution_count": 8,
   "metadata": {
    "collapsed": false
   },
   "outputs": [],
   "source": [
    "#fig = plt.figure(); ax = fig.add_subplot(111, projection='3d')\n",
    "#x = [p[0] for p in plot_points]\n",
    "#y = [p[1] for p in plot_points]\n",
    "#z = [p[2] for p in plot_points]\n",
    "#ax.scatter(x,y,z)"
   ]
  },
  {
   "cell_type": "code",
   "execution_count": null,
   "metadata": {
    "collapsed": true
   },
   "outputs": [],
   "source": []
  }
 ],
 "metadata": {
  "anaconda-cloud": {},
  "kernelspec": {
   "display_name": "Python [conda env:blackbox]",
   "language": "python",
   "name": "conda-env-blackbox-py"
  },
  "language_info": {
   "codemirror_mode": {
    "name": "ipython",
    "version": 2
   },
   "file_extension": ".py",
   "mimetype": "text/x-python",
   "name": "python",
   "nbconvert_exporter": "python",
   "pygments_lexer": "ipython2",
   "version": "2.7.12"
  }
 },
 "nbformat": 4,
 "nbformat_minor": 1
}
